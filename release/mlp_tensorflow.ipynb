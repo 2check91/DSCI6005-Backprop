{
 "cells": [
  {
   "cell_type": "markdown",
   "metadata": {
    "deletable": true,
    "editable": true
   },
   "source": [
    "Before you turn this project in, make sure everything runs as expected. First, **restart the kernel** (in the menubar, select Kernel$\\rightarrow$Restart) and then **run all cells** (in the menubar, select Cell$\\rightarrow$Run All).\n",
    "\n",
    "Make sure you fill in any place that says `YOUR CODE HERE` or \"YOUR ANSWER HERE\", as well as your name and collaborators below:"
   ]
  },
  {
   "cell_type": "code",
   "execution_count": null,
   "metadata": {
    "collapsed": false,
    "deletable": true,
    "editable": true
   },
   "outputs": [],
   "source": [
    "NAME = \"\"\n",
    "COLLABORATORS = \"\""
   ]
  },
  {
   "cell_type": "markdown",
   "metadata": {
    "deletable": false,
    "editable": false,
    "nbgrader": {
     "checksum": "82fb1e9f8ecc379592bf172fec0e0d2c",
     "grade": false,
     "grade_id": "autograder_description",
     "locked": true,
     "schema_version": 1,
     "solution": false
    }
   },
   "source": [
    "# Load Data\n",
    "\n",
    "The following code loads in the MNIST dataset and displays a few images and flattens the images and sets some autograder variables."
   ]
  },
  {
   "cell_type": "code",
   "execution_count": null,
   "metadata": {
    "deletable": false,
    "editable": false,
    "nbgrader": {
     "checksum": "ab5286dd39777f244141032864d20f36",
     "grade": false,
     "grade_id": "autograder_code",
     "locked": true,
     "schema_version": 1,
     "solution": false
    }
   },
   "outputs": [],
   "source": [
    "from IPython.display import display\n",
    "import numpy as np\n",
    "from keras.preprocessing.image import array_to_img, img_to_array\n",
    "from keras.datasets import mnist\n",
    "from keras.utils.np_utils import to_categorical\n",
    "import tensorflow as tf\n",
    "sess = tf.InteractiveSession()\n",
    "%load_ext autoreload\n",
    "%autoreload 2\n",
    "\n",
    "[X_mnist, y_mnist], _ = mnist.load_data()\n",
    "for x in X_mnist[:5]:\n",
    "    x = np.expand_dims(x, axis=-1)\n",
    "    img = array_to_img(x)\n",
    "    display(img)\n",
    "\n",
    "X_mnist = X_mnist.reshape([60_000, 28*28]) / 255.\n",
    "Y_mnist = to_categorical(y_mnist)\n",
    "X_mnist, Y_mnist = X_mnist[:50], Y_mnist[:50]\n",
    "\n",
    "M, N = X_mnist.shape\n",
    "C = np.unique(y_mnist).shape[0]\n",
    "H = 16\n",
    "\n",
    "def passed(): print('✅')"
   ]
  },
  {
   "cell_type": "markdown",
   "metadata": {
    "deletable": false,
    "editable": false,
    "nbgrader": {
     "checksum": "d47df5774edb0a79de47845c3c891274",
     "grade": false,
     "grade_id": "mlp_description",
     "locked": true,
     "schema_version": 1,
     "solution": false
    }
   },
   "source": [
    "# Task\n",
    "\n",
    "- Define a one-hidden layer perceptron class called `TFMLP` with TensorFlow as in the computational graph\n",
    "\n",
    "![](images/mlp_predict.svg)"
   ]
  },
  {
   "cell_type": "code",
   "execution_count": null,
   "metadata": {
    "deletable": false,
    "nbgrader": {
     "checksum": "c21ec5e306a4fb8927058eb135e44030",
     "grade": false,
     "grade_id": "mlp_solution",
     "locked": false,
     "schema_version": 1,
     "solution": true
    }
   },
   "outputs": [],
   "source": [
    "# YOUR CODE HERE\n",
    "raise NotImplementedError()"
   ]
  },
  {
   "cell_type": "markdown",
   "metadata": {
    "deletable": false,
    "editable": false,
    "nbgrader": {
     "checksum": "f78ba5b14e337b010285b4b1a7ed99a0",
     "grade": false,
     "grade_id": "input_blurb",
     "locked": true,
     "schema_version": 1,
     "solution": false
    }
   },
   "source": [
    "# Input Tests"
   ]
  },
  {
   "cell_type": "code",
   "execution_count": null,
   "metadata": {
    "deletable": false,
    "editable": false,
    "nbgrader": {
     "checksum": "ee1e8fcaa84f377ce1a920aba85e9d56",
     "grade": true,
     "grade_id": "input_tests",
     "locked": true,
     "points": 1,
     "schema_version": 1,
     "solution": false
    }
   },
   "outputs": [],
   "source": [
    "from classifiers import TFMLP\n",
    "\n",
    "mlp = TFMLP(nb_feature=N, nb_hidden=H, nb_class=C)\n",
    "init = tf.global_variables_initializer()\n",
    "sess.run(init) # initialize tensorflow variables\n",
    "\n",
    "assert mlp.X.op.type == 'Placeholder'\n",
    "assert mlp.Y.op.type == 'Placeholder'\n",
    "mlp.X.get_shape().as_list() == [None, 784]\n",
    "mlp.Y.get_shape().as_list() == [None, 10]\n",
    "\n",
    "passed()"
   ]
  },
  {
   "cell_type": "markdown",
   "metadata": {
    "deletable": false,
    "editable": false,
    "nbgrader": {
     "checksum": "08dfa803eccfeaaedc2e3972fca7ba60",
     "grade": false,
     "grade_id": "variable_blurb",
     "locked": true,
     "schema_version": 1,
     "solution": false
    }
   },
   "source": [
    "# Variable Tests"
   ]
  },
  {
   "cell_type": "code",
   "execution_count": null,
   "metadata": {
    "deletable": false,
    "editable": false,
    "nbgrader": {
     "checksum": "d7a22ad7cf3c9b06a71b46653d9f1865",
     "grade": true,
     "grade_id": "variable_tests",
     "locked": true,
     "points": 1,
     "schema_version": 1,
     "solution": false
    }
   },
   "outputs": [],
   "source": [
    "from classifiers import TFMLP\n",
    "\n",
    "mlp = TFMLP(nb_feature=N, nb_hidden=H, nb_class=C)\n",
    "init = tf.global_variables_initializer()\n",
    "sess.run(init) # initialize tensorflow variables\n",
    "\n",
    "assert mlp.W1.op.type == 'VariableV2'\n",
    "assert mlp.b1.op.type == 'VariableV2'\n",
    "assert mlp.W1.get_shape().as_list() == [784, 16]\n",
    "assert mlp.b1.get_shape().as_list() == [16]\n",
    "assert mlp.W2.op.type == 'VariableV2'\n",
    "assert mlp.b2.op.type == 'VariableV2'\n",
    "assert mlp.W2.get_shape().as_list() == [16, 10]\n",
    "assert mlp.b2.get_shape().as_list() == [10]\n",
    "\n",
    "passed()"
   ]
  },
  {
   "cell_type": "markdown",
   "metadata": {
    "deletable": false,
    "editable": false,
    "nbgrader": {
     "checksum": "a73848f8bfb28042ab7b19b5d1758072",
     "grade": false,
     "grade_id": "output_blurb",
     "locked": true,
     "schema_version": 1,
     "solution": false
    }
   },
   "source": [
    "# Output Tests"
   ]
  },
  {
   "cell_type": "code",
   "execution_count": null,
   "metadata": {
    "deletable": false,
    "editable": false,
    "nbgrader": {
     "checksum": "52c482e88b2ebc8c4704d4351a1d1fc9",
     "grade": true,
     "grade_id": "output_tests",
     "locked": true,
     "points": 1,
     "schema_version": 1,
     "solution": false
    }
   },
   "outputs": [],
   "source": [
    "from classifiers import TFMLP\n",
    "\n",
    "mlp = TFMLP(nb_feature=N, nb_hidden=H, nb_class=C)\n",
    "init = tf.global_variables_initializer()\n",
    "sess.run(init) # initialize tensorflow variables\n",
    "\n",
    "assert mlp.loss.get_shape().as_list() == []\n",
    "assert mlp.P.get_shape().as_list() == [None, 10]\n",
    "assert mlp.accuracy.get_shape().as_list() == []\n",
    "\n",
    "passed()"
   ]
  },
  {
   "cell_type": "markdown",
   "metadata": {
    "deletable": false,
    "editable": false,
    "nbgrader": {
     "checksum": "033df42e28e8d656dad686a75c3a9b19",
     "grade": false,
     "grade_id": "prediction_blurb",
     "locked": true,
     "schema_version": 1,
     "solution": false
    }
   },
   "source": [
    "# Prediction Tests"
   ]
  },
  {
   "cell_type": "code",
   "execution_count": null,
   "metadata": {
    "deletable": false,
    "editable": false,
    "nbgrader": {
     "checksum": "807db2d503079cbfa2362c8819c270e2",
     "grade": true,
     "grade_id": "prediction_tests",
     "locked": true,
     "points": 1,
     "schema_version": 1,
     "solution": false
    }
   },
   "outputs": [],
   "source": [
    "from classifiers import TFMLP\n",
    "\n",
    "mlp = TFMLP(nb_feature=N, nb_hidden=H, nb_class=C)\n",
    "init = tf.global_variables_initializer()\n",
    "sess.run(init) # initialize tensorflow variables\n",
    "\n",
    "y_pred = mlp.predict(X_mnist)\n",
    "nb_train_ = len(X_mnist)\n",
    "assert y_pred.shape == (M, C)\n",
    "\n",
    "passed()"
   ]
  },
  {
   "cell_type": "markdown",
   "metadata": {
    "deletable": false,
    "editable": false,
    "nbgrader": {
     "checksum": "82ce71c1bdde881f47489fea5e5edb16",
     "grade": false,
     "grade_id": "evaluation_blurb",
     "locked": true,
     "schema_version": 1,
     "solution": false
    }
   },
   "source": [
    "# Evaluation Test"
   ]
  },
  {
   "cell_type": "code",
   "execution_count": null,
   "metadata": {
    "deletable": false,
    "editable": false,
    "nbgrader": {
     "checksum": "05040962622d0556601e3d95f881654c",
     "grade": true,
     "grade_id": "evaluation_tests",
     "locked": true,
     "points": 1,
     "schema_version": 1,
     "solution": false
    }
   },
   "outputs": [],
   "source": [
    "from classifiers import TFMLP\n",
    "\n",
    "mlp = TFMLP(nb_feature=N, nb_hidden=H, nb_class=C)\n",
    "init = tf.global_variables_initializer()\n",
    "sess.run(init) # initialize tensorflow variables\n",
    "\n",
    "acc = mlp.evaluate(X_mnist, Y_mnist)\n",
    "assert type(acc) == tf.float32\n",
    "assert 0 <= acc <= 1\n",
    "\n",
    "passed()"
   ]
  },
  {
   "cell_type": "markdown",
   "metadata": {
    "collapsed": true,
    "deletable": false,
    "editable": false,
    "nbgrader": {
     "checksum": "f547c7bc0440f4556aefb14d71230aa6",
     "grade": false,
     "grade_id": "optimizer_description",
     "locked": true,
     "schema_version": 1,
     "solution": false
    }
   },
   "source": [
    "# Task\n",
    "\n",
    "- Implement a `TFMLPWithGDOptimizer` class which performs optimization via gradient descent and extends your `TFMLP` class"
   ]
  },
  {
   "cell_type": "code",
   "execution_count": null,
   "metadata": {
    "deletable": false,
    "nbgrader": {
     "checksum": "f9de2ee3d1e62d4345f5f7b9b259aa99",
     "grade": false,
     "grade_id": "optimizer_solution",
     "locked": false,
     "schema_version": 1,
     "solution": true
    }
   },
   "outputs": [],
   "source": [
    "# YOUR CODE HERE\n",
    "raise NotImplementedError()"
   ]
  },
  {
   "cell_type": "markdown",
   "metadata": {
    "deletable": false,
    "editable": false,
    "nbgrader": {
     "checksum": "2779f333e4a4af1b2ac0bb16c9baede4",
     "grade": false,
     "grade_id": "optimizer_blurb",
     "locked": true,
     "schema_version": 1,
     "solution": false
    }
   },
   "source": [
    "# Gradient Descent Optimizer Test"
   ]
  },
  {
   "cell_type": "code",
   "execution_count": null,
   "metadata": {
    "deletable": false,
    "editable": false,
    "nbgrader": {
     "checksum": "3baf661ed0a391d19c0790370ffdd5f4",
     "grade": true,
     "grade_id": "optimizer_tests",
     "locked": true,
     "points": 1,
     "schema_version": 1,
     "solution": false
    }
   },
   "outputs": [],
   "source": [
    "from classifiers import TFMLPWithGDOptimizer, TFMLP\n",
    "\n",
    "assert issubclass(TFMLPWithGDOptimizer, TFMLP)\n",
    "mlp = TFMLPWithGDOptimizer(nb_feature=N, nb_hidden=H, nb_class=C)\n",
    "init = tf.global_variables_initializer()\n",
    "sess.run(init) # initialize tensorflow variables\n",
    "\n",
    "X_sample, Y_sample = X_mnist[:50], Y_mnist[:50]\n",
    "acc = mlp.evaluate(X_sample, Y_sample)\n",
    "loss = mlp.forward(X_sample, Y_sample)\n",
    "for _ in range(10):\n",
    "    mlp.fit(X_sample, Y_sample, sess, nb_epoch=10)\n",
    "    assert mlp.forward(X_sample, Y_sample) < loss\n",
    "    loss = mlp.forward(X_sample, Y_sample)\n",
    "    \n",
    "assert mlp.evaluate(X_sample, Y_sample) > acc\n",
    "\n",
    "passed()"
   ]
  },
  {
   "cell_type": "markdown",
   "metadata": {
    "deletable": false,
    "editable": false,
    "nbgrader": {
     "checksum": "6a2daeba672f2bbee33bfe3796ad3fd0",
     "grade": false,
     "grade_id": "ignore",
     "locked": true,
     "schema_version": 1,
     "solution": false
    }
   },
   "source": [
    "# Ignore Cell Below"
   ]
  },
  {
   "cell_type": "code",
   "execution_count": null,
   "metadata": {
    "collapsed": true,
    "deletable": false,
    "nbgrader": {
     "checksum": "7d8afec2c4454c9be1c1455cb533af35",
     "grade": false,
     "grade_id": "ignore_solution",
     "locked": false,
     "schema_version": 1,
     "solution": true
    }
   },
   "outputs": [],
   "source": [
    "# YOUR CODE HERE\n",
    "raise NotImplementedError()"
   ]
  }
 ],
 "metadata": {
  "kernelspec": {
   "display_name": "Python 3",
   "language": "python",
   "name": "python3"
  },
  "language_info": {
   "codemirror_mode": {
    "name": "ipython",
    "version": 3
   },
   "file_extension": ".py",
   "mimetype": "text/x-python",
   "name": "python",
   "nbconvert_exporter": "python",
   "pygments_lexer": "ipython3",
   "version": "3.6.1"
  }
 },
 "nbformat": 4,
 "nbformat_minor": 2
}
