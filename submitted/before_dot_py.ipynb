{
 "cells": [
  {
   "cell_type": "code",
   "execution_count": 80,
   "metadata": {},
   "outputs": [
    {
     "name": "stdout",
     "output_type": "stream",
     "text": [
      "The autoreload extension is already loaded. To reload it, use:\n",
      "  %reload_ext autoreload\n"
     ]
    },
    {
     "data": {
      "image/png": "[encoded data removed]",
      "text/plain": [
       "<PIL.Image.Image image mode=L size=28x28 at 0x7F330ECE8AC8>"
      ]
     },
     "metadata": {},
     "output_type": "display_data"
    },
    {
     "data": {
      "image/png": "[encoded data removed]",
      "text/plain": [
       "<PIL.Image.Image image mode=L size=28x28 at 0x7F330ECE88D0>"
      ]
     },
     "metadata": {},
     "output_type": "display_data"
    },
    {
     "data": {
      "image/png": "[encoded data removed]",
      "text/plain": [
       "<PIL.Image.Image image mode=L size=28x28 at 0x7F330ECE89B0>"
      ]
     },
     "metadata": {},
     "output_type": "display_data"
    },
    {
     "data": {
      "image/png": "[encoded data removed]",
      "text/plain": [
       "<PIL.Image.Image image mode=L size=28x28 at 0x7F330ECE8B38>"
      ]
     },
     "metadata": {},
     "output_type": "display_data"
    },
    {
     "data": {
      "image/png": "[encoded data removed]",
      "text/plain": [
       "<PIL.Image.Image image mode=L size=28x28 at 0x7F330ECE8AC8>"
      ]
     },
     "metadata": {},
     "output_type": "display_data"
    }
   ],
   "source": [
    "from IPython.display import display\n",
    "import numpy as np\n",
    "from keras.preprocessing.image import array_to_img, img_to_array\n",
    "from keras.datasets import mnist\n",
    "from keras.utils.np_utils import to_categorical\n",
    "import tensorflow as tf\n",
    "sess = tf.InteractiveSession()\n",
    "%load_ext autoreload\n",
    "\n",
    "[X_mnist, y_mnist], _ = mnist.load_data()\n",
    "for x in X_mnist[:5]:\n",
    "    x = np.expand_dims(x, axis=-1)\n",
    "    img = array_to_img(x)\n",
    "    display(img)\n",
    "\n",
    "X_mnist = X_mnist.reshape([60_000, 28*28]) / 255.\n",
    "Y_mnist = to_categorical(y_mnist)\n",
    "X_mnist, Y_mnist = X_mnist[:50], Y_mnist[:50]\n",
    "\n",
    "M, N = X_mnist.shape\n",
    "C = np.unique(y_mnist).shape[0]\n",
    "H = 16\n",
    "\n",
    "def passed(): print('✅')"
   ]
  },
  {
   "cell_type": "code",
   "execution_count": 81,
   "metadata": {},
   "outputs": [
    {
     "data": {
      "text/plain": [
       "10"
      ]
     },
     "execution_count": 81,
     "metadata": {},
     "output_type": "execute_result"
    }
   ],
   "source": [
    "C"
   ]
  },
  {
   "cell_type": "code",
   "execution_count": 88,
   "metadata": {},
   "outputs": [],
   "source": [
    "class TFMLP():\n",
    "    def __init__(self,nb_feature,nb_hidden,nb_class):\n",
    "        self.X = tf.placeholder(dtype=tf.float32, shape=[None, nb_feature], name='x')\n",
    "        self.Y = tf.placeholder(dtype=tf.float32, shape=[None, nb_class], name='y')\n",
    "        self.W1 = tf.Variable(initial_value=np.random.randn(nb_feature, nb_hidden), dtype=tf.float32, name='W1')\n",
    "        self.W2 = tf.Variable(initial_value=np.random.randn(nb_hidden, nb_class), dtype=tf.float32, name='W1')\n",
    "        self.b1 = tf.Variable(initial_value=np.random.randn(nb_hidden), dtype=tf.float32, name='W1')\n",
    "        self.b2 = tf.Variable(initial_value=np.random.randn(nb_class), dtype=tf.float32, name='W1')\n",
    "    \n",
    "    def predict(self,x): # Output should be 400 by 4.\n",
    "        x2 = tf.constant(x, dtype=tf.float32)\n",
    "        z1 = tf.matmul(x2, self.W1, name='z1')\n",
    "        no_sig1 = tf.add(z1, self.b1, name='nosig_1')\n",
    "        sig1 = tf.sigmoid(no_sig1, name='first_sig')\n",
    "        z2 = tf.matmul(sig1, self.W2, name='z2')\n",
    "        no_sig2 = tf.add(z2, self.b2, name='nosig_2')\n",
    "        sig2 = tf.sigmoid(no_sig2, name='second_sig')\n",
    "        return sig2\n",
    "    \n",
    "    def evaluate(self,X,y):\n",
    "        y_pred = self.predict(X)\n",
    "        prediction = tf.argmax(y_pred,1)\n",
    "        "
   ]
  },
  {
   "cell_type": "code",
   "execution_count": 89,
   "metadata": {},
   "outputs": [],
   "source": [
    "mlp = TFMLP(nb_feature=N, nb_hidden=H, nb_class=C)\n",
    "init = tf.global_variables_initializer()\n",
    "sess.run(init) # initialize tensorflow variables"
   ]
  },
  {
   "cell_type": "code",
   "execution_count": 90,
   "metadata": {},
   "outputs": [
    {
     "name": "stdout",
     "output_type": "stream",
     "text": [
      "<class 'tensorflow.python.framework.ops.Tensor'>\n"
     ]
    },
    {
     "ename": "AssertionError",
     "evalue": "",
     "output_type": "error",
     "traceback": [
      "\u001b[0;31m---------------------------------------------------------------------------\u001b[0m",
      "\u001b[0;31mAssertionError\u001b[0m                            Traceback (most recent call last)",
      "\u001b[0;32m<ipython-input-90-04b59c7126ac>\u001b[0m in \u001b[0;36m<module>\u001b[0;34m()\u001b[0m\n\u001b[1;32m      1\u001b[0m \u001b[0macc\u001b[0m \u001b[0;34m=\u001b[0m \u001b[0mmlp\u001b[0m\u001b[0;34m.\u001b[0m\u001b[0mevaluate\u001b[0m\u001b[0;34m(\u001b[0m\u001b[0mX_mnist\u001b[0m\u001b[0;34m,\u001b[0m \u001b[0mY_mnist\u001b[0m\u001b[0;34m)\u001b[0m\u001b[0;34m\u001b[0m\u001b[0m\n\u001b[0;32m----> 2\u001b[0;31m \u001b[0;32massert\u001b[0m \u001b[0mtype\u001b[0m\u001b[0;34m(\u001b[0m\u001b[0macc\u001b[0m\u001b[0;34m)\u001b[0m \u001b[0;34m==\u001b[0m \u001b[0mtf\u001b[0m\u001b[0;34m.\u001b[0m\u001b[0mfloat32\u001b[0m\u001b[0;34m\u001b[0m\u001b[0m\n\u001b[0m\u001b[1;32m      3\u001b[0m \u001b[0;32massert\u001b[0m \u001b[0;36m0\u001b[0m \u001b[0;34m<=\u001b[0m \u001b[0macc\u001b[0m \u001b[0;34m<=\u001b[0m \u001b[0;36m1\u001b[0m\u001b[0;34m\u001b[0m\u001b[0m\n\u001b[1;32m      4\u001b[0m \u001b[0;34m\u001b[0m\u001b[0m\n\u001b[1;32m      5\u001b[0m \u001b[0mpassed\u001b[0m\u001b[0;34m(\u001b[0m\u001b[0;34m)\u001b[0m\u001b[0;34m\u001b[0m\u001b[0m\n",
      "\u001b[0;31mAssertionError\u001b[0m: "
     ]
    }
   ],
   "source": [
    "acc = mlp.evaluate(X_mnist, Y_mnist)\n",
    "assert type(acc) == tf.float32\n",
    "assert 0 <= acc <= 1\n",
    "\n",
    "passed()"
   ]
  },
  {
   "cell_type": "code",
   "execution_count": null,
   "metadata": {
    "collapsed": true
   },
   "outputs": [],
   "source": []
  }
 ],
 "metadata": {
  "kernelspec": {
   "display_name": "Python 3",
   "language": "python",
   "name": "python3"
  },
  "language_info": {
   "codemirror_mode": {
    "name": "ipython",
    "version": 3
   },
   "file_extension": ".py",
   "mimetype": "text/x-python",
   "name": "python",
   "nbconvert_exporter": "python",
   "pygments_lexer": "ipython3",
   "version": "3.6.1"
  }
 },
 "nbformat": 4,
 "nbformat_minor": 2
}
